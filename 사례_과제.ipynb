{
 "cells": [
  {
   "cell_type": "code",
   "execution_count": null,
   "metadata": {},
   "outputs": [],
   "source": [
    "import pandas as pd\n",
    "import aiohttp\n",
    "import asyncio\n",
    "\n",
    "idx_data = pd.read_csv('data/idx_data.csv')\n",
    "url = 'http://data-dbg.krx.co.kr/svc/apis/drv/opt_bydd_trd?basDd='\n",
    "key = 'BDFA640BBCE84C4B8A465EA024D50D6F3FD909FF'\n",
    "\n",
    "async def fetch(session, url, bas_dd):\n",
    "    async with session.get(url + bas_dd, headers={'AUTH_KEY': key}) as response:\n",
    "        return await response.json()\n",
    "\n",
    "async def fetch_all(bas_dd_list, url):\n",
    "    async with aiohttp.ClientSession() as session:\n",
    "        tasks = [fetch(session, url, str(bas_dd)) for bas_dd in bas_dd_list]\n",
    "        return await asyncio.gather(*tasks)\n",
    "\n",
    "async def main():\n",
    "    bas_dd_list = idx_data['BAS_DD'].astype(str).tolist()\n",
    "    responses = await fetch_all(bas_dd_list, url)\n",
    "\n",
    "    data_list = [pd.json_normalize(res['OutBlock_1']) for res in responses if 'OutBlock_1' in res and res['OutBlock_1']]\n",
    "    options = pd.concat(data_list, axis=0, ignore_index=True)\n",
    "\n",
    "    # CSV 저장\n",
    "    options.to_csv(\"options_data.csv\", encoding=\"utf-8-sig\", index=False)\n",
    "    print(\"complete\")"
   ]
  },
  {
   "cell_type": "code",
   "execution_count": null,
   "metadata": {},
   "outputs": [],
   "source": [
    "await main()"
   ]
  },
  {
   "cell_type": "code",
   "execution_count": null,
   "metadata": {},
   "outputs": [],
   "source": [
    "options1 = pd.read_csv('data/options1.csv')\n",
    "options2 = pd.read_csv('data/options2.csv')\n",
    "options_data = pd.concat([options1,options2],axis=0, ignore_index=True)\n",
    "options_data"
   ]
  },
  {
   "cell_type": "code",
   "execution_count": null,
   "metadata": {},
   "outputs": [],
   "source": [
    "options_data.to_csv(\"options_data.csv\", encoding=\"utf-8-sig\", index=False)"
   ]
  },
  {
   "cell_type": "code",
   "execution_count": 4,
   "metadata": {},
   "outputs": [],
   "source": [
    "import pandas as pd\n",
    "import aiohttp\n",
    "import asyncio\n",
    "\n",
    "idx_data = pd.read_csv('data/idx_data_test.csv')\n",
    "url = 'http://data-dbg.krx.co.kr/svc/apis/drv/opt_bydd_trd?basDd='\n",
    "key = 'BDFA640BBCE84C4B8A465EA024D50D6F3FD909FF'\n",
    "\n",
    "async def fetch(session, url, bas_dd):\n",
    "    async with session.get(url + bas_dd, headers={'AUTH_KEY': key}) as response:\n",
    "        return await response.json()\n",
    "\n",
    "async def fetch_all(bas_dd_list, url):\n",
    "    async with aiohttp.ClientSession() as session:\n",
    "        tasks = [fetch(session, url, str(bas_dd)) for bas_dd in bas_dd_list]\n",
    "        return await asyncio.gather(*tasks)\n",
    "\n",
    "async def main():\n",
    "    bas_dd_list = idx_data['BAS_DD'].astype(str).tolist()\n",
    "    responses = await fetch_all(bas_dd_list, url)\n",
    "\n",
    "    data_list = [pd.json_normalize(res['OutBlock_1']) for res in responses if 'OutBlock_1' in res and res['OutBlock_1']]\n",
    "    options = pd.concat(data_list, axis=0, ignore_index=True)\n",
    "\n",
    "    # CSV 저장\n",
    "    options.to_csv(\"options_data_test.csv\", encoding=\"utf-8-sig\", index=False)\n",
    "    print(\"complete\")"
   ]
  },
  {
   "cell_type": "code",
   "execution_count": 5,
   "metadata": {},
   "outputs": [
    {
     "name": "stdout",
     "output_type": "stream",
     "text": [
      "complete\n"
     ]
    }
   ],
   "source": [
    "await main()"
   ]
  },
  {
   "cell_type": "code",
   "execution_count": null,
   "metadata": {},
   "outputs": [],
   "source": []
  }
 ],
 "metadata": {
  "kernelspec": {
   "display_name": "hwan",
   "language": "python",
   "name": "python3"
  },
  "language_info": {
   "codemirror_mode": {
    "name": "ipython",
    "version": 3
   },
   "file_extension": ".py",
   "mimetype": "text/x-python",
   "name": "python",
   "nbconvert_exporter": "python",
   "pygments_lexer": "ipython3",
   "version": "3.10.14"
  }
 },
 "nbformat": 4,
 "nbformat_minor": 2
}
